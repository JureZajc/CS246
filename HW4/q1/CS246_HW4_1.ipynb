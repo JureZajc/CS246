{
  "nbformat": 4,
  "nbformat_minor": 0,
  "metadata": {
    "colab": {
      "name": "CS246-HW4-1.ipynb",
      "provenance": [],
      "toc_visible": true
    },
    "kernelspec": {
      "name": "python3",
      "display_name": "Python 3"
    }
  },
  "cells": [
    {
      "cell_type": "markdown",
      "metadata": {
        "id": "b3MKcCkfgVYm",
        "colab_type": "text"
      },
      "source": [
        "Must needed setup before every assignment"
      ]
    },
    {
      "cell_type": "code",
      "metadata": {
        "id": "6hizHUHDgBKF",
        "colab_type": "code",
        "outputId": "5dfbb98a-eb3d-4ba7-e2f3-5f8b5ca5c014",
        "colab": {
          "base_uri": "https://localhost:8080/",
          "height": 272
        }
      },
      "source": [
        "!pip install pyspark\n",
        "!pip install -U -q PyDrive\n",
        "!apt install openjdk-8-jdk-headless -qq\n",
        "import os\n",
        "os.environ[\"JAVA_HOME\"] = \"/usr/lib/jvm/java-8-openjdk-amd64\""
      ],
      "execution_count": 1,
      "outputs": [
        {
          "output_type": "stream",
          "text": [
            "Collecting pyspark\n",
            "\u001b[?25l  Downloading https://files.pythonhosted.org/packages/9a/5a/271c416c1c2185b6cb0151b29a91fff6fcaed80173c8584ff6d20e46b465/pyspark-2.4.5.tar.gz (217.8MB)\n",
            "\u001b[K     |████████████████████████████████| 217.8MB 60kB/s \n",
            "\u001b[?25hCollecting py4j==0.10.7\n",
            "\u001b[?25l  Downloading https://files.pythonhosted.org/packages/e3/53/c737818eb9a7dc32a7cd4f1396e787bd94200c3997c72c1dbe028587bd76/py4j-0.10.7-py2.py3-none-any.whl (197kB)\n",
            "\u001b[K     |████████████████████████████████| 204kB 46.4MB/s \n",
            "\u001b[?25hBuilding wheels for collected packages: pyspark\n",
            "  Building wheel for pyspark (setup.py) ... \u001b[?25l\u001b[?25hdone\n",
            "  Created wheel for pyspark: filename=pyspark-2.4.5-py2.py3-none-any.whl size=218257927 sha256=c3d6e75bf13210d929aa2ad2022bd44d8ef8b7846e371e83a2d1ab76419ec82c\n",
            "  Stored in directory: /root/.cache/pip/wheels/bf/db/04/61d66a5939364e756eb1c1be4ec5bdce6e04047fc7929a3c3c\n",
            "Successfully built pyspark\n",
            "Installing collected packages: py4j, pyspark\n",
            "Successfully installed py4j-0.10.7 pyspark-2.4.5\n",
            "openjdk-8-jdk-headless is already the newest version (8u242-b08-0ubuntu3~18.04).\n",
            "0 upgraded, 0 newly installed, 0 to remove and 25 not upgraded.\n"
          ],
          "name": "stdout"
        }
      ]
    },
    {
      "cell_type": "markdown",
      "metadata": {
        "id": "nPN2LGj0geG0",
        "colab_type": "text"
      },
      "source": [
        "Imports"
      ]
    },
    {
      "cell_type": "code",
      "metadata": {
        "id": "BqilzVBNgfE3",
        "colab_type": "code",
        "colab": {}
      },
      "source": [
        "import numpy as np\n",
        "import time\n",
        "import matplotlib.pyplot as pl"
      ],
      "execution_count": 0,
      "outputs": []
    },
    {
      "cell_type": "markdown",
      "metadata": {
        "id": "LeIhz8uQgsfQ",
        "colab_type": "text"
      },
      "source": [
        "Variables"
      ]
    },
    {
      "cell_type": "code",
      "metadata": {
        "id": "xyGrtFfigtRq",
        "colab_type": "code",
        "colab": {}
      },
      "source": [
        "dataPath = ''\n",
        "\n",
        "x = []"
      ],
      "execution_count": 0,
      "outputs": []
    },
    {
      "cell_type": "markdown",
      "metadata": {
        "id": "W6zegkESgw98",
        "colab_type": "text"
      },
      "source": [
        "Open file"
      ]
    },
    {
      "cell_type": "code",
      "metadata": {
        "id": "z3cHCsEJgxrt",
        "colab_type": "code",
        "colab": {}
      },
      "source": [
        "with open(dataPath + 'features.txt') as f:\n",
        "    for line in f:\n",
        "        x.append(list(map(int, line.split(','))))\n",
        "x = np.array(x)\n",
        "\n",
        "y = []\n",
        "with open(dataPath + 'target.txt') as f:\n",
        "    for line in f:\n",
        "        y.append(int(line))\n",
        "y = np.array(y)"
      ],
      "execution_count": 0,
      "outputs": []
    },
    {
      "cell_type": "markdown",
      "metadata": {
        "id": "WMb9uwA4g0R7",
        "colab_type": "text"
      },
      "source": [
        "Batch"
      ]
    },
    {
      "cell_type": "code",
      "metadata": {
        "id": "Hg1hC9Cvg05k",
        "colab_type": "code",
        "outputId": "944b65ed-cd43-459e-c04f-7b9c1cfc7b77",
        "colab": {
          "base_uri": "https://localhost:8080/",
          "height": 34
        }
      },
      "source": [
        "t0 = time.time()\n",
        "print('batch in progress', flush=True)\n",
        "n, d = x.shape\n",
        "w = np.zeros(d)\n",
        "b = 0.\n",
        "eta = .0000003\n",
        "eps = .25\n",
        "C = 100\n",
        "y_xw_b = y * (x @ w + b)\n",
        "fb = [w @ w / 2 + C * np.sum(np.maximum(0, 1 - y_xw_b))]\n",
        "\n",
        "while True:\n",
        "    mask = y_xw_b >= 1\n",
        "\n",
        "    dLdw = -y[:, None] * x\n",
        "    dLdb = -y\n",
        "    dLdw[mask] = 0\n",
        "    dLdb[mask] = 0\n",
        "    dw = w + C * np.sum(dLdw, axis=0)\n",
        "    db = C * np.sum(dLdb)\n",
        "\n",
        "    w -= eta * dw\n",
        "    b -= eta * db\n",
        "\n",
        "    y_xw_b = y * (x @ w + b)\n",
        "    fb.append(w @ w / 2 + C * np.sum(np.maximum(0, 1 - y_xw_b)))\n",
        "\n",
        "    if 100 * abs(fb[-2] - fb[-1]) / fb[-2] < eps:\n",
        "        break\n",
        "\n",
        "t1 = time.time()"
      ],
      "execution_count": 18,
      "outputs": [
        {
          "output_type": "stream",
          "text": [
            "batch in progress\n"
          ],
          "name": "stdout"
        }
      ]
    },
    {
      "cell_type": "markdown",
      "metadata": {
        "id": "brfDOIvug38a",
        "colab_type": "text"
      },
      "source": [
        "SGD"
      ]
    },
    {
      "cell_type": "code",
      "metadata": {
        "id": "jKbFso-zg42w",
        "colab_type": "code",
        "outputId": "f2687b0b-376f-4447-a5be-57fb7bb44d0f",
        "colab": {
          "base_uri": "https://localhost:8080/",
          "height": 34
        }
      },
      "source": [
        "t2 = time.time()\n",
        "print('sgd in progress', flush=True)\n",
        "w = np.zeros(d)\n",
        "b = 0.\n",
        "eta = .0001\n",
        "eps = .001\n",
        "fs = [w @ w / 2 + C * np.sum(np.maximum(0, 1 - y * (x @ w + b)))]\n",
        "prev_d = 0\n",
        "ir = list(range(n))\n",
        "np.random.shuffle(ir)\n",
        "i = 0\n",
        "while True:\n",
        "    xi = x[ir[i]]\n",
        "    yi = y[ir[i]]\n",
        "\n",
        "    mask = yi * (xi @ w + b) >= 1\n",
        "    dLdw = 0 if mask else -yi * xi\n",
        "    dLdb = 0 if mask else -yi\n",
        "    dw = w + C * dLdw\n",
        "    db = C * dLdb\n",
        "    w -= eta * dw\n",
        "    b -= eta * db\n",
        "\n",
        "    i += 1\n",
        "    if i == n:\n",
        "        i = 0\n",
        "        np.random.shuffle(ir)\n",
        "\n",
        "    fs.append(w @ w / 2 + C * np.sum(np.maximum(0, 1 - y * (x @ w + b))))\n",
        "    curr_d = 100 * abs(fs[-2] - fs[-1]) / fs[-2]\n",
        "    prev_d = .5 * prev_d + .5 * curr_d\n",
        "    if prev_d < eps:\n",
        "        break\n",
        "      \n",
        "t3 = time.time()"
      ],
      "execution_count": 19,
      "outputs": [
        {
          "output_type": "stream",
          "text": [
            "sgd in progress\n"
          ],
          "name": "stdout"
        }
      ]
    },
    {
      "cell_type": "markdown",
      "metadata": {
        "id": "5ovYVWJFg8n8",
        "colab_type": "text"
      },
      "source": [
        "Mini Batch"
      ]
    },
    {
      "cell_type": "code",
      "metadata": {
        "id": "Tf3iYP24g-ck",
        "colab_type": "code",
        "outputId": "cc2a5b82-55a6-4d3f-915b-d84ff02b75bf",
        "colab": {
          "base_uri": "https://localhost:8080/",
          "height": 34
        }
      },
      "source": [
        "t4 = time.time()\n",
        "print('minibatch in progress', flush=True)\n",
        "w = np.zeros(d)\n",
        "b = 0\n",
        "prev_d = 0\n",
        "batch_size = 20\n",
        "eta = .00001\n",
        "eps = .01\n",
        "l = 0\n",
        "perm = np.random.permutation(range(n))\n",
        "x = x[perm]\n",
        "y = y[perm]\n",
        "fm = [w @ w / 2 + C * np.sum(np.maximum(0, 1 - y * (x @ w + b)))]\n",
        "while True:\n",
        "    xm = x[l:l + batch_size]\n",
        "    ym = y[l:l + batch_size]\n",
        "\n",
        "    mask = ym * (xm @ w + b) >= 1\n",
        "    dLdw = -ym[:, None] * xm\n",
        "    dLdb = -ym\n",
        "    dLdw[mask] = 0\n",
        "    dLdb[mask] = 0\n",
        "    dw = w + C * np.sum(dLdw, axis=0)\n",
        "    db = C * np.sum(dLdb)\n",
        "\n",
        "    w -= eta * dw\n",
        "    b -= eta * db\n",
        "\n",
        "    l += batch_size\n",
        "    if l >= n:\n",
        "        l = 0\n",
        "        perm = np.random.permutation(range(n))\n",
        "        x = x[perm]\n",
        "        y = y[perm]\n",
        "\n",
        "    fm.append(w @ w / 2 + C * np.sum(np.maximum(0, 1 - y * (x @ w + b))))\n",
        "    curr_d = 100 * abs(fm[-2] - fm[-1]) / fm[-2]\n",
        "    prev_d = .5 * prev_d + .5 * curr_d\n",
        "    if prev_d < eps:\n",
        "        break\n",
        "t5 = time.time()"
      ],
      "execution_count": 20,
      "outputs": [
        {
          "output_type": "stream",
          "text": [
            "minibatch in progress\n"
          ],
          "name": "stdout"
        }
      ]
    },
    {
      "cell_type": "markdown",
      "metadata": {
        "id": "MV9cY6qZhByK",
        "colab_type": "text"
      },
      "source": [
        "Results and Output graphs"
      ]
    },
    {
      "cell_type": "code",
      "metadata": {
        "id": "fr6k4O1DhFEk",
        "colab_type": "code",
        "outputId": "0c3f5161-a572-496e-b52d-265fce741066",
        "colab": {
          "base_uri": "https://localhost:8080/",
          "height": 641
        }
      },
      "source": [
        "print('run name   time (s)    # iters    # epochs')\n",
        "print('batch      %8.2f    %7d    %8d' % ((t1 - t0), (len(fb) - 1), (len(fb) - 1)))\n",
        "print('sgd        %8.2f    %7d    %8.2f' % ((t3 - t2), (len(fs) - 1), ((len(fs) - 1) / n)))\n",
        "print('minibatch  %8.2f    %7d    %8.2f' % ((t5 - t4), (len(fm) - 1), ((len(fm) - 1) / (np.ceil(n / batch_size)))))\n",
        "\n",
        "pl.figure(0)\n",
        "pl.plot(fb)\n",
        "pl.plot(np.arange(len(fs)) / n, fs)\n",
        "pl.plot(np.arange(len(fm)) / (np.ceil(n / batch_size)), fm)\n",
        "pl.legend(['batch', 'sgd', 'minibatch'])\n",
        "pl.title(\"Cost vs epoch\")\n",
        "pl.xlabel('Epoch')\n",
        "pl.ylabel('Cost')\n",
        "\n",
        "\n",
        "pl.figure(1)\n",
        "pl.plot(fb)\n",
        "pl.plot(fs)\n",
        "pl.plot(fm)\n",
        "pl.legend(['batch', 'sgd', 'minibatch'])\n",
        "pl.title(\"Cost vs iteration\")\n",
        "pl.xlabel('Iteration')\n",
        "pl.ylabel('Cost')\n",
        "pl.savefig('plot.png', dpi=300, bbox_inches='tight')"
      ],
      "execution_count": 21,
      "outputs": [
        {
          "output_type": "stream",
          "text": [
            "run name   time (s)    # iters    # epochs\n",
            "batch          0.37         57          57\n",
            "sgd            4.38       2188        0.34\n",
            "minibatch      2.44       1159        3.61\n"
          ],
          "name": "stdout"
        },
        {
          "output_type": "display_data",
          "data": {
            "image/png": "[encoded data removed]",
            "text/plain": [
              "<Figure size 432x288 with 1 Axes>"
            ]
          },
          "metadata": {
            "tags": []
          }
        },
        {
          "output_type": "display_data",
          "data": {
            "image/png": "[encoded data removed]",
            "text/plain": [
              "<Figure size 432x288 with 1 Axes>"
            ]
          },
          "metadata": {
            "tags": []
          }
        }
      ]
    }
  ]
}