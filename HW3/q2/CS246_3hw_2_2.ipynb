{
  "nbformat": 4,
  "nbformat_minor": 0,
  "metadata": {
    "colab": {
      "name": "CS246-3hw 2_2.ipynb",
      "provenance": [],
      "collapsed_sections": []
    },
    "kernelspec": {
      "name": "python3",
      "display_name": "Python 3"
    }
  },
  "cells": [
    {
      "cell_type": "markdown",
      "metadata": {
        "id": "mOaY910wLMr6",
        "colab_type": "text"
      },
      "source": [
        "Must needed setup before every assignment"
      ]
    },
    {
      "cell_type": "code",
      "metadata": {
        "id": "RK-TedHdGDE9",
        "colab_type": "code",
        "outputId": "7c11a2df-1340-4f80-e6a0-21972e7f9ff9",
        "colab": {
          "base_uri": "https://localhost:8080/",
          "height": 323
        }
      },
      "source": [
        "!pip install pyspark\n",
        "!pip install -U -q PyDrive\n",
        "!apt install openjdk-8-jdk-headless -qq\n",
        "import os\n",
        "os.environ[\"JAVA_HOME\"] = \"/usr/lib/jvm/java-8-openjdk-amd64\""
      ],
      "execution_count": 0,
      "outputs": [
        {
          "output_type": "stream",
          "text": [
            "Collecting pyspark\n",
            "\u001b[?25l  Downloading https://files.pythonhosted.org/packages/9a/5a/271c416c1c2185b6cb0151b29a91fff6fcaed80173c8584ff6d20e46b465/pyspark-2.4.5.tar.gz (217.8MB)\n",
            "\u001b[K     |████████████████████████████████| 217.8MB 56kB/s \n",
            "\u001b[?25hCollecting py4j==0.10.7\n",
            "\u001b[?25l  Downloading https://files.pythonhosted.org/packages/e3/53/c737818eb9a7dc32a7cd4f1396e787bd94200c3997c72c1dbe028587bd76/py4j-0.10.7-py2.py3-none-any.whl (197kB)\n",
            "\u001b[K     |████████████████████████████████| 204kB 51.1MB/s \n",
            "\u001b[?25hBuilding wheels for collected packages: pyspark\n",
            "  Building wheel for pyspark (setup.py) ... \u001b[?25l\u001b[?25hdone\n",
            "  Created wheel for pyspark: filename=pyspark-2.4.5-py2.py3-none-any.whl size=218257927 sha256=3e9e09547dad2cd8e7084c14529f12af3047890005a9dce7a945f105247550c4\n",
            "  Stored in directory: /root/.cache/pip/wheels/bf/db/04/61d66a5939364e756eb1c1be4ec5bdce6e04047fc7929a3c3c\n",
            "Successfully built pyspark\n",
            "Installing collected packages: py4j, pyspark\n",
            "Successfully installed py4j-0.10.7 pyspark-2.4.5\n",
            "openjdk-8-jdk-headless is already the newest version (8u242-b08-0ubuntu3~18.04).\n",
            "The following package was automatically installed and is no longer required:\n",
            "  libnvidia-common-430\n",
            "Use 'apt autoremove' to remove it.\n",
            "0 upgraded, 0 newly installed, 0 to remove and 25 not upgraded.\n"
          ],
          "name": "stdout"
        }
      ]
    },
    {
      "cell_type": "markdown",
      "metadata": {
        "id": "90J45hTCGaDJ",
        "colab_type": "text"
      },
      "source": [
        "Imports"
      ]
    },
    {
      "cell_type": "code",
      "metadata": {
        "id": "VFs-x7ccGdKE",
        "colab_type": "code",
        "colab": {}
      },
      "source": [
        "from pyspark import SparkContext, SparkConf\n",
        "from pyspark.sql import *"
      ],
      "execution_count": 0,
      "outputs": []
    },
    {
      "cell_type": "markdown",
      "metadata": {
        "id": "2qCayMBhGfL6",
        "colab_type": "text"
      },
      "source": [
        "Setup Spark"
      ]
    },
    {
      "cell_type": "code",
      "metadata": {
        "id": "Xe2mZkXiGgdh",
        "colab_type": "code",
        "colab": {}
      },
      "source": [
        "# create the Spark Session\n",
        "spark = SparkSession.builder.getOrCreate()\n",
        "\n",
        "# create the Spark Context\n",
        "sc = spark.sparkContext"
      ],
      "execution_count": 0,
      "outputs": []
    },
    {
      "cell_type": "markdown",
      "metadata": {
        "id": "r9jhKbVVGmIo",
        "colab_type": "text"
      },
      "source": [
        "Check if Spark is working"
      ]
    },
    {
      "cell_type": "code",
      "metadata": {
        "id": "74DvdetCGojb",
        "colab_type": "code",
        "outputId": "0ec1537f-1e8e-4782-f1f3-4e35433352c6",
        "colab": {
          "base_uri": "https://localhost:8080/",
          "height": 216
        }
      },
      "source": [
        "spark"
      ],
      "execution_count": 0,
      "outputs": [
        {
          "output_type": "execute_result",
          "data": {
            "text/html": [
              "\n",
              "            <div>\n",
              "                <p><b>SparkSession - in-memory</b></p>\n",
              "                \n",
              "        <div>\n",
              "            <p><b>SparkContext</b></p>\n",
              "\n",
              "            <p><a href=\"http://38333e74c29d:4040\">Spark UI</a></p>\n",
              "\n",
              "            <dl>\n",
              "              <dt>Version</dt>\n",
              "                <dd><code>v2.4.5</code></dd>\n",
              "              <dt>Master</dt>\n",
              "                <dd><code>local[*]</code></dd>\n",
              "              <dt>AppName</dt>\n",
              "                <dd><code>pyspark-shell</code></dd>\n",
              "            </dl>\n",
              "        </div>\n",
              "        \n",
              "            </div>\n",
              "        "
            ],
            "text/plain": [
              "<pyspark.sql.session.SparkSession at 0x7f422700c2e8>"
            ]
          },
          "metadata": {
            "tags": []
          },
          "execution_count": 4
        }
      ]
    },
    {
      "cell_type": "markdown",
      "metadata": {
        "id": "6Ae5FvpkGs-7",
        "colab_type": "text"
      },
      "source": [
        "Variables"
      ]
    },
    {
      "cell_type": "code",
      "metadata": {
        "id": "FkeELGrBGt6P",
        "colab_type": "code",
        "colab": {}
      },
      "source": [
        "#dataPath = 'graph-small.txt' # node # 1 ~ 100\n",
        "dataPath = 'graph-full.txt' # node # 1 ~ 1000\n",
        "\n",
        "# check min and max node #\n",
        "mi = float('inf')\n",
        "Mx = -float('inf')"
      ],
      "execution_count": 0,
      "outputs": []
    },
    {
      "cell_type": "markdown",
      "metadata": {
        "id": "0OQVcVPiG1Go",
        "colab_type": "text"
      },
      "source": [
        "Open File"
      ]
    },
    {
      "cell_type": "code",
      "metadata": {
        "id": "2AIoaABxG2Cn",
        "colab_type": "code",
        "colab": {}
      },
      "source": [
        "with open(dataPath) as f:\n",
        "    for line in f:\n",
        "        a, b = map(int, line.split())\n",
        "        mi = min(mi, a, b)\n",
        "        Mx = max(Mx, a, b)\n",
        "\n",
        "n = Mx\n",
        "\n",
        "lines = sc.textFile(dataPath)\n",
        "edges_uv = lines.map(lambda line: list(map(int, line.split())))\n",
        "edges_vu = lines.map(lambda line: list(map(int, line.split()[::-1])))"
      ],
      "execution_count": 0,
      "outputs": []
    },
    {
      "cell_type": "markdown",
      "metadata": {
        "id": "uJnxJglIG8e-",
        "colab_type": "text"
      },
      "source": [
        "Same definitions"
      ]
    },
    {
      "cell_type": "code",
      "metadata": {
        "id": "rg4DyTS4G9nJ",
        "colab_type": "code",
        "colab": {}
      },
      "source": [
        "def aggregateUV(st, v):\n",
        "    st.add(v)\n",
        "    return st\n",
        "\n",
        "def aggregateUU(st1, st2):\n",
        "    return st1 | st2"
      ],
      "execution_count": 0,
      "outputs": []
    },
    {
      "cell_type": "markdown",
      "metadata": {
        "id": "yvRDBUkTG-mk",
        "colab_type": "text"
      },
      "source": [
        "Get Edges"
      ]
    },
    {
      "cell_type": "code",
      "metadata": {
        "id": "2k5kqZq5HCrr",
        "colab_type": "code",
        "colab": {}
      },
      "source": [
        "u_outNeigs = edges_uv.aggregateByKey(set(), aggregateUV, aggregateUU)\n",
        "v_inNeigs  = edges_vu.aggregateByKey(set(), aggregateUV, aggregateUU)\n",
        "# u_outDegs = u_outNeigs.map(lambda u_st: (u_st[0], len(u_st[1])))\n",
        "\n",
        "M_uv = {}\n",
        "M_vu = {}\n",
        "for u, outNeigs in u_outNeigs.collect():\n",
        "    M_uv[u] = outNeigs\n",
        "\n",
        "for v, inNeigs in v_inNeigs.collect():\n",
        "    M_vu[v] = inNeigs\n",
        "\n",
        "u_outNeigs = sc.broadcast(M_uv)\n",
        "v_inNeigs  = sc.broadcast(M_vu)\n",
        "\n",
        "\n",
        "numIters = 40 #Number of iterations"
      ],
      "execution_count": 0,
      "outputs": []
    },
    {
      "cell_type": "markdown",
      "metadata": {
        "id": "S2u61vsxHFjD",
        "colab_type": "text"
      },
      "source": [
        "Here we need additional definition"
      ]
    },
    {
      "cell_type": "code",
      "metadata": {
        "id": "JYUq-mxLHLl7",
        "colab_type": "code",
        "colab": {}
      },
      "source": [
        "def LTh(h):\n",
        "    LT = u_outNeigs.value\n",
        "    new_a = [0] * n\n",
        "    for j, hj in enumerate(h, 1): # 0/1 indexing\n",
        "        if hj == 0:\n",
        "            continue\n",
        "        for i in LT[j]:\n",
        "            new_a[i - 1] += hj # 0/1 indexing\n",
        "    return new_a\n",
        "\n",
        "def L_a(a):\n",
        "    L  = v_inNeigs.value\n",
        "    new_h = [0] * n\n",
        "    for j, aj in enumerate(a, 1): # 0/1 indexing\n",
        "        if aj == 0:\n",
        "            continue\n",
        "        for i in L[j]:\n",
        "            new_h[i - 1] += aj # 0/1 indexing\n",
        "    return new_h"
      ],
      "execution_count": 0,
      "outputs": []
    },
    {
      "cell_type": "markdown",
      "metadata": {
        "id": "4sGPNUA_HPQ8",
        "colab_type": "text"
      },
      "source": [
        "Output"
      ]
    },
    {
      "cell_type": "code",
      "metadata": {
        "id": "YhQULfcEHP-X",
        "colab_type": "code",
        "outputId": "5b5c6bfb-799a-4646-c9a8-d678cab3d795",
        "colab": {
          "base_uri": "https://localhost:8080/",
          "height": 85
        }
      },
      "source": [
        "h = [1] * n\n",
        "\n",
        "\n",
        "for _ in range(numIters):\n",
        "    a = LTh(h)\n",
        "    a = [v / max(a) for v in a]\n",
        "    h = L_a(a)\n",
        "    h = [v / max(h) for v in h]\n",
        "\n",
        "h_id = zip(h, range(1, n + 1))\n",
        "a_id = zip(a, range(1, n + 1))\n",
        "\n",
        "h_id = sorted(h_id, reverse=True)\n",
        "h_id_reverse = h_id[::-1]\n",
        "a_id = sorted(a_id, reverse=True)\n",
        "a_id_revese = a_id[::-1]\n",
        "\n",
        "print(h_id[:5])\n",
        "print(h_id_reverse[:5])\n",
        "print(a_id[:5])\n",
        "print(a_id_revese[:5])"
      ],
      "execution_count": 0,
      "outputs": [
        {
          "output_type": "stream",
          "text": [
            "[(1.0, 840), (0.9499618624906543, 155), (0.8986645288972263, 234), (0.8634171101843789, 389), (0.8632841092495218, 472)]\n",
            "[(0.04206685489093652, 23), (0.057790593544330145, 835), (0.06453117646225177, 141), (0.0660265937341849, 539), (0.07678413939216452, 889)]\n",
            "[(1.0, 893), (0.9635572849634398, 16), (0.9510158161074015, 799), (0.9246703586198443, 146), (0.899866197360405, 473)]\n",
            "[(0.05608316377607618, 19), (0.06653910487622794, 135), (0.07544228624641901, 462), (0.08171239406816942, 24), (0.08571673456144875, 910)]\n"
          ],
          "name": "stdout"
        }
      ]
    }
  ]
}