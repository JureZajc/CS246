{
  "nbformat": 4,
  "nbformat_minor": 0,
  "metadata": {
    "colab": {
      "name": "CS246-3hw 2_1.ipynb",
      "provenance": [],
      "collapsed_sections": []
    },
    "kernelspec": {
      "name": "python3",
      "display_name": "Python 3"
    }
  },
  "cells": [
    {
      "cell_type": "markdown",
      "metadata": {
        "id": "ST1002EBCU8F",
        "colab_type": "text"
      },
      "source": [
        "Must needed setup before every assignment"
      ]
    },
    {
      "cell_type": "code",
      "metadata": {
        "id": "_UxMpeXqB_fM",
        "colab_type": "code",
        "outputId": "72d8d24b-eb61-4fd2-f576-a84ffd6f070b",
        "colab": {
          "base_uri": "https://localhost:8080/",
          "height": 323
        }
      },
      "source": [
        "!pip install pyspark\n",
        "!pip install -U -q PyDrive\n",
        "!apt install openjdk-8-jdk-headless -qq\n",
        "import os\n",
        "os.environ[\"JAVA_HOME\"] = \"/usr/lib/jvm/java-8-openjdk-amd64\""
      ],
      "execution_count": 0,
      "outputs": [
        {
          "output_type": "stream",
          "text": [
            "Collecting pyspark\n",
            "\u001b[?25l  Downloading https://files.pythonhosted.org/packages/9a/5a/271c416c1c2185b6cb0151b29a91fff6fcaed80173c8584ff6d20e46b465/pyspark-2.4.5.tar.gz (217.8MB)\n",
            "\u001b[K     |████████████████████████████████| 217.8MB 60kB/s \n",
            "\u001b[?25hCollecting py4j==0.10.7\n",
            "\u001b[?25l  Downloading https://files.pythonhosted.org/packages/e3/53/c737818eb9a7dc32a7cd4f1396e787bd94200c3997c72c1dbe028587bd76/py4j-0.10.7-py2.py3-none-any.whl (197kB)\n",
            "\u001b[K     |████████████████████████████████| 204kB 43.2MB/s \n",
            "\u001b[?25hBuilding wheels for collected packages: pyspark\n",
            "  Building wheel for pyspark (setup.py) ... \u001b[?25l\u001b[?25hdone\n",
            "  Created wheel for pyspark: filename=pyspark-2.4.5-py2.py3-none-any.whl size=218257927 sha256=bdc4e84b81b4a30e44b99e0d3654ea79f852adb5630957c5d7611e779e8aaabf\n",
            "  Stored in directory: /root/.cache/pip/wheels/bf/db/04/61d66a5939364e756eb1c1be4ec5bdce6e04047fc7929a3c3c\n",
            "Successfully built pyspark\n",
            "Installing collected packages: py4j, pyspark\n",
            "Successfully installed py4j-0.10.7 pyspark-2.4.5\n",
            "openjdk-8-jdk-headless is already the newest version (8u242-b08-0ubuntu3~18.04).\n",
            "The following package was automatically installed and is no longer required:\n",
            "  libnvidia-common-430\n",
            "Use 'apt autoremove' to remove it.\n",
            "0 upgraded, 0 newly installed, 0 to remove and 25 not upgraded.\n"
          ],
          "name": "stdout"
        }
      ]
    },
    {
      "cell_type": "markdown",
      "metadata": {
        "id": "kLBpCDw8CthJ",
        "colab_type": "text"
      },
      "source": [
        "Imports "
      ]
    },
    {
      "cell_type": "code",
      "metadata": {
        "id": "-_C4N0_aCuxm",
        "colab_type": "code",
        "colab": {}
      },
      "source": [
        "import itertools\n",
        "from pyspark import SparkContext, SparkConf\n",
        "from pyspark.sql import *"
      ],
      "execution_count": 0,
      "outputs": []
    },
    {
      "cell_type": "markdown",
      "metadata": {
        "id": "eSbYfKQqDEhc",
        "colab_type": "text"
      },
      "source": [
        "Setup Spark"
      ]
    },
    {
      "cell_type": "code",
      "metadata": {
        "id": "tZV-1uXsDFgG",
        "colab_type": "code",
        "colab": {}
      },
      "source": [
        "# create the Spark Session\n",
        "spark = SparkSession.builder.getOrCreate()\n",
        "\n",
        "# create the Spark Context\n",
        "sc = spark.sparkContext"
      ],
      "execution_count": 0,
      "outputs": []
    },
    {
      "cell_type": "markdown",
      "metadata": {
        "id": "VGDTFd0fDS2Q",
        "colab_type": "text"
      },
      "source": [
        "Check if Spark is working"
      ]
    },
    {
      "cell_type": "code",
      "metadata": {
        "id": "SdEK1UKJDUfd",
        "colab_type": "code",
        "outputId": "cdbbed0c-1c53-4873-be16-a5f97ff0661f",
        "colab": {
          "base_uri": "https://localhost:8080/",
          "height": 216
        }
      },
      "source": [
        "spark"
      ],
      "execution_count": 0,
      "outputs": [
        {
          "output_type": "execute_result",
          "data": {
            "text/html": [
              "\n",
              "            <div>\n",
              "                <p><b>SparkSession - in-memory</b></p>\n",
              "                \n",
              "        <div>\n",
              "            <p><b>SparkContext</b></p>\n",
              "\n",
              "            <p><a href=\"http://2ff9878cb390:4040\">Spark UI</a></p>\n",
              "\n",
              "            <dl>\n",
              "              <dt>Version</dt>\n",
              "                <dd><code>v2.4.5</code></dd>\n",
              "              <dt>Master</dt>\n",
              "                <dd><code>local[*]</code></dd>\n",
              "              <dt>AppName</dt>\n",
              "                <dd><code>pyspark-shell</code></dd>\n",
              "            </dl>\n",
              "        </div>\n",
              "        \n",
              "            </div>\n",
              "        "
            ],
            "text/plain": [
              "<pyspark.sql.session.SparkSession at 0x7fbe76e61e10>"
            ]
          },
          "metadata": {
            "tags": []
          },
          "execution_count": 6
        }
      ]
    },
    {
      "cell_type": "markdown",
      "metadata": {
        "id": "AVf4lv2GDgnL",
        "colab_type": "text"
      },
      "source": [
        "Variables"
      ]
    },
    {
      "cell_type": "code",
      "metadata": {
        "id": "bBTNU3-NDhci",
        "colab_type": "code",
        "colab": {}
      },
      "source": [
        "#dataPath = 'graph-small.txt' # node # 1 ~ 100 \n",
        "dataPath = 'graph-full.txt' # node # 1 ~ 1000\n",
        "# check min and max node #\n",
        "mi = float('inf')\n",
        "Mx = -float('inf')"
      ],
      "execution_count": 0,
      "outputs": []
    },
    {
      "cell_type": "markdown",
      "metadata": {
        "id": "jYIdc1jmDqdT",
        "colab_type": "text"
      },
      "source": [
        "Open file"
      ]
    },
    {
      "cell_type": "code",
      "metadata": {
        "id": "n3N81T7yDrZH",
        "colab_type": "code",
        "colab": {}
      },
      "source": [
        "with open(dataPath) as f:\n",
        "    for line in f:\n",
        "        a, b = map(int, line.split())\n",
        "        mi = min(mi, a, b)\n",
        "        Mx = max(Mx, a, b)\n",
        "\n",
        "n = Mx\n",
        "\n",
        "lines = sc.textFile(dataPath)\n",
        "edges = lines.map(lambda line: list(map(int, line.split())))"
      ],
      "execution_count": 0,
      "outputs": []
    },
    {
      "cell_type": "markdown",
      "metadata": {
        "id": "5opBFQB4D1J2",
        "colab_type": "text"
      },
      "source": [
        "Definitions"
      ]
    },
    {
      "cell_type": "code",
      "metadata": {
        "id": "bZllQPv6D3Ex",
        "colab_type": "code",
        "colab": {}
      },
      "source": [
        "def aggregateUV(st, v):\n",
        "    st.add(v)\n",
        "    return st\n",
        "\n",
        "def aggregateUU(st1, st2):\n",
        "    return st1 | st2"
      ],
      "execution_count": 0,
      "outputs": []
    },
    {
      "cell_type": "markdown",
      "metadata": {
        "id": "gk5ql-rpD95Z",
        "colab_type": "text"
      },
      "source": [
        "Get Edges"
      ]
    },
    {
      "cell_type": "code",
      "metadata": {
        "id": "AbUHp-0zECGi",
        "colab_type": "code",
        "colab": {}
      },
      "source": [
        "u_outNeigs = edges.aggregateByKey(set(), aggregateUV, aggregateUU)\n",
        "# u_outDegs = u_outNeigs.map(lambda u_st: (u_st[0], len(u_st[1])))\n",
        "\n",
        "M = {}\n",
        "for u, outNeigs in u_outNeigs.collect():\n",
        "    M[u] = outNeigs\n",
        "\n",
        "u_outNeigs = sc.broadcast(M)\n",
        "\n",
        "beta = 0.8\n",
        "one_beta_n = (1 - beta) / n\n",
        "numIters = 40 #Number of iterations"
      ],
      "execution_count": 0,
      "outputs": []
    },
    {
      "cell_type": "markdown",
      "metadata": {
        "id": "xxDMoSbhEDnR",
        "colab_type": "text"
      },
      "source": [
        "Last definiton"
      ]
    },
    {
      "cell_type": "code",
      "metadata": {
        "id": "OkkiuVYXEGo4",
        "colab_type": "code",
        "colab": {}
      },
      "source": [
        "def Mr(r):\n",
        "    M = u_outNeigs.value\n",
        "    new = [0] * n\n",
        "    for j, rj in enumerate(r, 1): # 0/1 indexing\n",
        "        if rj == 0:\n",
        "            continue\n",
        "        # assert deg != 0\n",
        "        inv = rj / len(M[j])\n",
        "        for i in M[j]:\n",
        "            new[i - 1] += inv # 0/1 indexing\n",
        "    return new"
      ],
      "execution_count": 0,
      "outputs": []
    },
    {
      "cell_type": "markdown",
      "metadata": {
        "id": "nZwZnT75EOun",
        "colab_type": "text"
      },
      "source": [
        "Output"
      ]
    },
    {
      "cell_type": "code",
      "metadata": {
        "id": "8AZNVjuBEP6o",
        "colab_type": "code",
        "outputId": "14916171-9e99-4170-ae97-4a9dd3b22ad9",
        "colab": {
          "base_uri": "https://localhost:8080/",
          "height": 51
        }
      },
      "source": [
        "r = [1 / n] * n\n",
        "\n",
        "\n",
        "for _ in range(numIters):\n",
        "    r = [one_beta_n + beta * val for val in Mr(r)]\n",
        "\n",
        "r_id = zip(r, range(1, n + 1))\n",
        "r_id = sorted(r_id, reverse=True)\n",
        "r_id_reverse = r_id[::-1]\n",
        "\n",
        "print(r_id[:5])\n",
        "print(r_id_reverse[:5])"
      ],
      "execution_count": 0,
      "outputs": [
        {
          "output_type": "stream",
          "text": [
            "[(0.0020202911815182184, 263), (0.0019433415714531497, 537), (0.0019254478071662631, 965), (0.001852634016241731, 243), (0.0018273721700645144, 285)]\n",
            "[(0.0003286018525215297, 558), (0.0003513568937516577, 93), (0.00035314810510596274, 62), (0.0003548153864930145, 424), (0.00038779848719291705, 408)]\n"
          ],
          "name": "stdout"
        }
      ]
    }
  ]
}