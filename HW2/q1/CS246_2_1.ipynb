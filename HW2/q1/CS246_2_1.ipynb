{
  "nbformat": 4,
  "nbformat_minor": 0,
  "metadata": {
    "colab": {
      "name": "CS246 2.1.ipynb",
      "provenance": []
    },
    "kernelspec": {
      "name": "python3",
      "display_name": "Python 3"
    }
  },
  "cells": [
    {
      "cell_type": "markdown",
      "metadata": {
        "id": "TkF_yUklHRS_",
        "colab_type": "text"
      },
      "source": [
        "Imports"
      ]
    },
    {
      "cell_type": "code",
      "metadata": {
        "id": "n9ERio1bHdmO",
        "colab_type": "code",
        "colab": {}
      },
      "source": [
        "import scipy.linalg as sl\n",
        "import numpy as np"
      ],
      "execution_count": 0,
      "outputs": []
    },
    {
      "cell_type": "markdown",
      "metadata": {
        "id": "-UW-38mMHe9u",
        "colab_type": "text"
      },
      "source": [
        "Ouptup"
      ]
    },
    {
      "cell_type": "code",
      "metadata": {
        "id": "zL8cfdbiHHaK",
        "colab_type": "code",
        "outputId": "21289076-ee6b-41ec-9b13-f3142d73021c",
        "colab": {
          "base_uri": "https://localhost:8080/",
          "height": 272
        }
      },
      "source": [
        "# https://stackoverflow.com/questions/21562986/numpy-matrix-vector-multiplication/21563036#21563036 for matrix multiplication\n",
        "M = [[1, 2],\n",
        "     [2, 1],\n",
        "     [3, 4],\n",
        "     [4, 3]]\n",
        "M = np.array(M)\n",
        "U, s, Vh = sl.svd(M, full_matrices=False)\n",
        "print('U')\n",
        "print(U)\n",
        "print('Sigma')\n",
        "print(s)\n",
        "print('Vh')\n",
        "print(Vh)\n",
        "\n",
        "Evals, Evecs = sl.eigh(M.T @ M)\n",
        "\n",
        "indices = np.argsort(Evals)\n",
        "\n",
        "Evals = Evals[indices]\n",
        "Evecs = Evecs[:, indices]\n",
        "\n",
        "print('Evals')\n",
        "print(Evals)\n",
        "print('Evecs')\n",
        "print(Evecs)"
      ],
      "execution_count": 2,
      "outputs": [
        {
          "output_type": "stream",
          "text": [
            "U\n",
            "[[-0.27854301  0.5       ]\n",
            " [-0.27854301 -0.5       ]\n",
            " [-0.64993368  0.5       ]\n",
            " [-0.64993368 -0.5       ]]\n",
            "Sigma\n",
            "[7.61577311 1.41421356]\n",
            "Vh\n",
            "[[-0.70710678 -0.70710678]\n",
            " [-0.70710678  0.70710678]]\n",
            "Evals\n",
            "[ 2. 58.]\n",
            "Evecs\n",
            "[[-0.70710678  0.70710678]\n",
            " [ 0.70710678  0.70710678]]\n"
          ],
          "name": "stdout"
        }
      ]
    }
  ]
}