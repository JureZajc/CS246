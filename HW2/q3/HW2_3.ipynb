{
  "nbformat": 4,
  "nbformat_minor": 0,
  "metadata": {
    "colab": {
      "name": "HW2-3.ipynb",
      "provenance": []
    },
    "kernelspec": {
      "name": "python2",
      "display_name": "Python 2"
    }
  },
  "cells": [
    {
      "cell_type": "markdown",
      "metadata": {
        "id": "Bw7iTwEWiM0y",
        "colab_type": "text"
      },
      "source": [
        "Must needed setup before every assignment"
      ]
    },
    {
      "cell_type": "code",
      "metadata": {
        "id": "v6bqxAvviKiB",
        "colab_type": "code",
        "outputId": "b7b9e65d-711b-400c-ad75-f19fe45c0d9c",
        "colab": {
          "base_uri": "https://localhost:8080/",
          "height": 136
        }
      },
      "source": [
        "!pip install pyspark\n",
        "!pip install -U -q PyDrive\n",
        "!apt install openjdk-8-jdk-headless -qq\n",
        "import os\n",
        "os.environ[\"JAVA_HOME\"] = \"/usr/lib/jvm/java-8-openjdk-amd64\""
      ],
      "execution_count": 27,
      "outputs": [
        {
          "output_type": "stream",
          "text": [
            "Requirement already satisfied: pyspark in /usr/local/lib/python2.7/dist-packages (2.4.4)\n",
            "Requirement already satisfied: py4j==0.10.7 in /usr/local/lib/python2.7/dist-packages (from pyspark) (0.10.7)\n",
            "openjdk-8-jdk-headless is already the newest version (8u242-b08-0ubuntu3~18.04).\n",
            "The following package was automatically installed and is no longer required:\n",
            "  libnvidia-common-430\n",
            "Use 'apt autoremove' to remove it.\n",
            "0 upgraded, 0 newly installed, 0 to remove and 16 not upgraded.\n"
          ],
          "name": "stdout"
        }
      ]
    },
    {
      "cell_type": "markdown",
      "metadata": {
        "id": "1Hj4_E1biT2x",
        "colab_type": "text"
      },
      "source": [
        "Imports"
      ]
    },
    {
      "cell_type": "code",
      "metadata": {
        "id": "FLw7XdCbiU3J",
        "colab_type": "code",
        "colab": {}
      },
      "source": [
        "import itertools\n",
        "import numpy as np\n",
        "import matplotlib.pyplot as plt"
      ],
      "execution_count": 0,
      "outputs": []
    },
    {
      "cell_type": "markdown",
      "metadata": {
        "id": "y5q_Gyexid3Q",
        "colab_type": "text"
      },
      "source": [
        "Code Variables"
      ]
    },
    {
      "cell_type": "code",
      "metadata": {
        "id": "peNBgnamik8q",
        "colab_type": "code",
        "colab": {}
      },
      "source": [
        "k = 20\n",
        "lamb = 0.1\n",
        "iters = 40\n",
        "eta = 0.015\n",
        "\n",
        "trainfile = \"ratings.train.txt\"\n",
        "myfile = open(trainfile, 'r')\n",
        "\n",
        "q = {}\n",
        "p = {}"
      ],
      "execution_count": 0,
      "outputs": []
    },
    {
      "cell_type": "markdown",
      "metadata": {
        "id": "mxaDhQ5kisSl",
        "colab_type": "text"
      },
      "source": [
        "Code"
      ]
    },
    {
      "cell_type": "code",
      "metadata": {
        "id": "ayA8WwIMis3x",
        "colab_type": "code",
        "outputId": "634b3307-d00f-4e33-eca4-43b2732e4303",
        "colab": {
          "base_uri": "https://localhost:8080/",
          "height": 697
        }
      },
      "source": [
        "# first traverse, initialize all q and p\n",
        "for line in myfile:\n",
        "    items = line.strip().split(\"\\t\")\n",
        "    q_row = int(items[0])\n",
        "    p_row = int(items[1])\n",
        "    if q_row in q:\n",
        "        pass\n",
        "    else:\n",
        "        q[q_row] = np.random.rand(k) * np.sqrt(5.0/float(k))\n",
        "    if p_row in p:\n",
        "        pass\n",
        "    else:\n",
        "        p[p_row] = np.random.rand(k) * np.sqrt(5.0/float(k))\n",
        "\n",
        "\n",
        "# start to train the data\n",
        "error_record = []\n",
        "for ii in xrange(iters):\n",
        "    # in each iter, open file again\n",
        "    readfile = open(trainfile, 'r')\n",
        "    for readline in readfile:\n",
        "        ratings = readline.strip().split(\"\\t\")\n",
        "        q_idx = int(ratings[0])\n",
        "        p_idx = int(ratings[1])\n",
        "        rate = int(ratings[2])\n",
        "\n",
        "        qi = q[q_idx]\n",
        "        pu = p[p_idx]\n",
        "        pu_T = pu.reshape(k, 1)\n",
        "        varep = 2.0 * (rate - np.dot(qi, pu_T))\n",
        "        # update\n",
        "        qi_new = qi + eta * (varep * pu - 2.0 * lamb * qi)\n",
        "        pu_new = pu + eta * (varep * qi - 2.0 * lamb * pu)\n",
        "        q[q_idx] = qi_new\n",
        "        p[p_idx] = pu_new\n",
        "    # calculate error\n",
        "    error = 0.0\n",
        "    readfile = open(trainfile, 'r')\n",
        "    for readline in readfile:\n",
        "        ratings = readline.strip().split(\"\\t\")\n",
        "        q_idx = int(ratings[0])\n",
        "        p_idx = int(ratings[1])\n",
        "        rate = int(ratings[2])\n",
        "\n",
        "        qi = q[q_idx]\n",
        "        pu = p[p_idx]\n",
        "        pu_T = pu.reshape(k, 1)\n",
        "        error += (rate - np.dot(qi, pu_T)) ** 2\n",
        "    for q_key in q:\n",
        "        error += np.sum(q[q_key] * q[q_key])\n",
        "    for p_key in p:\n",
        "        error += np.sum(p[p_key] * p[p_key])\n",
        "    # record error in each iter\n",
        "    error_scalar = error.reshape(())\n",
        "    print str(ii + 1) + \" of \" + str(iters) + \" iters: \" + str(error_scalar)\n",
        "    error_record.append(error_scalar)\n"
      ],
      "execution_count": 30,
      "outputs": [
        {
          "output_type": "stream",
          "text": [
            "1 of 40 iters: 92988.3394603329\n",
            "2 of 40 iters: 91318.54092140027\n",
            "3 of 40 iters: 89844.56301592861\n",
            "4 of 40 iters: 87686.98999727593\n",
            "5 of 40 iters: 85285.57644489984\n",
            "6 of 40 iters: 83068.07559074678\n",
            "7 of 40 iters: 80967.84949209825\n",
            "8 of 40 iters: 78931.8304488497\n",
            "9 of 40 iters: 77008.11826945811\n",
            "10 of 40 iters: 75253.9817283649\n",
            "11 of 40 iters: 73691.24572267436\n",
            "12 of 40 iters: 72314.0920056719\n",
            "13 of 40 iters: 71105.69489963732\n",
            "14 of 40 iters: 70047.0750696334\n",
            "15 of 40 iters: 69120.14335535315\n",
            "16 of 40 iters: 68308.47486592463\n",
            "17 of 40 iters: 67597.40006109654\n",
            "18 of 40 iters: 66973.91441555158\n",
            "19 of 40 iters: 66426.54579281008\n",
            "20 of 40 iters: 65945.21668698036\n",
            "21 of 40 iters: 65521.11076716084\n",
            "22 of 40 iters: 65146.54579120682\n",
            "23 of 40 iters: 64814.85326599352\n",
            "24 of 40 iters: 64520.26504335238\n",
            "25 of 40 iters: 64257.80717077612\n",
            "26 of 40 iters: 64023.20143816595\n",
            "27 of 40 iters: 63812.775077535145\n",
            "28 of 40 iters: 63623.378961518814\n",
            "29 of 40 iters: 63452.3144367663\n",
            "30 of 40 iters: 63297.26867419309\n",
            "31 of 40 iters: 63156.25817436626\n",
            "32 of 40 iters: 63027.57987130887\n",
            "33 of 40 iters: 62909.769148782834\n",
            "34 of 40 iters: 62801.56401929529\n",
            "35 of 40 iters: 62701.87470683323\n",
            "36 of 40 iters: 62609.75790510612\n",
            "37 of 40 iters: 62524.39503906431\n",
            "38 of 40 iters: 62445.07392701173\n",
            "39 of 40 iters: 62371.173314491134\n",
            "40 of 40 iters: 62302.149823525746\n"
          ],
          "name": "stdout"
        }
      ]
    },
    {
      "cell_type": "markdown",
      "metadata": {
        "id": "Tt6BHDlxEr3W",
        "colab_type": "text"
      },
      "source": [
        "Plot result and save file"
      ]
    },
    {
      "cell_type": "code",
      "metadata": {
        "id": "aRwBo4nWEyy9",
        "colab_type": "code",
        "outputId": "3283a650-b7e2-47e3-c2a9-e3fbae6c665b",
        "colab": {
          "base_uri": "https://localhost:8080/",
          "height": 295
        }
      },
      "source": [
        "x = np.arange(0, iters, 1) + 1\n",
        "y = error_record\n",
        "plt.plot(x, y, \"-o\")\n",
        "plt.xlabel(\"# of Iteration\")\n",
        "plt.ylabel(\"Error\")\n",
        "plt.title(\"Error vs Iteration\")\n",
        "plt.savefig('plot03.png', dpi=300, bbox_inches='tight')\n",
        "plt.show()"
      ],
      "execution_count": 31,
      "outputs": [
        {
          "output_type": "display_data",
          "data": {
            "image/png": "[encoded data removed]",
            "text/plain": [
              "<Figure size 432x288 with 1 Axes>"
            ]
          },
          "metadata": {
            "tags": []
          }
        }
      ]
    }
  ]
}