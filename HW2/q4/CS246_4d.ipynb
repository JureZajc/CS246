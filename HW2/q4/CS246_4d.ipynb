{
  "nbformat": 4,
  "nbformat_minor": 0,
  "metadata": {
    "colab": {
      "name": "CS246-4d.ipynb",
      "provenance": []
    },
    "kernelspec": {
      "name": "python3",
      "display_name": "Python 3"
    }
  },
  "cells": [
    {
      "cell_type": "markdown",
      "metadata": {
        "id": "-yMP_bdPCloR",
        "colab_type": "text"
      },
      "source": [
        "\n",
        "Must needed setup before every assignment"
      ]
    },
    {
      "cell_type": "code",
      "metadata": {
        "id": "bFtlKMMoCh4S",
        "colab_type": "code",
        "outputId": "a02a815e-84e4-4fa7-b86c-47f109bf9630",
        "colab": {
          "base_uri": "https://localhost:8080/",
          "height": 136
        }
      },
      "source": [
        "!pip install pyspark\n",
        "!pip install -U -q PyDrive\n",
        "!apt install openjdk-8-jdk-headless -qq\n",
        "import os\n",
        "os.environ[\"JAVA_HOME\"] = \"/usr/lib/jvm/java-8-openjdk-amd64\""
      ],
      "execution_count": 6,
      "outputs": [
        {
          "output_type": "stream",
          "text": [
            "Requirement already satisfied: pyspark in /usr/local/lib/python3.6/dist-packages (2.4.4)\n",
            "Requirement already satisfied: py4j==0.10.7 in /usr/local/lib/python3.6/dist-packages (from pyspark) (0.10.7)\n",
            "openjdk-8-jdk-headless is already the newest version (8u242-b08-0ubuntu3~18.04).\n",
            "The following package was automatically installed and is no longer required:\n",
            "  libnvidia-common-430\n",
            "Use 'apt autoremove' to remove it.\n",
            "0 upgraded, 0 newly installed, 0 to remove and 16 not upgraded.\n"
          ],
          "name": "stdout"
        }
      ]
    },
    {
      "cell_type": "markdown",
      "metadata": {
        "id": "BFZYk1MBCqnW",
        "colab_type": "text"
      },
      "source": [
        "Imports"
      ]
    },
    {
      "cell_type": "code",
      "metadata": {
        "id": "Aimegh6YCrKl",
        "colab_type": "code",
        "colab": {}
      },
      "source": [
        "import itertools\n",
        "import numpy as np"
      ],
      "execution_count": 0,
      "outputs": []
    },
    {
      "cell_type": "markdown",
      "metadata": {
        "id": "mo6Su2HoCvRa",
        "colab_type": "text"
      },
      "source": [
        "Code Variables"
      ]
    },
    {
      "cell_type": "code",
      "metadata": {
        "id": "2eRZ2oa6CwJd",
        "colab_type": "code",
        "colab": {}
      },
      "source": [
        "dataPath = 'user-shows.txt'\n",
        "showsPath = 'shows.txt'\n",
        "m = 9985\n",
        "n = 563\n",
        "alexi = 499 # user alexy ID\n",
        "shows = []"
      ],
      "execution_count": 0,
      "outputs": []
    },
    {
      "cell_type": "markdown",
      "metadata": {
        "id": "rmTIsRW5DBxk",
        "colab_type": "text"
      },
      "source": [
        "Output"
      ]
    },
    {
      "cell_type": "code",
      "metadata": {
        "id": "DWXRvEXbDIMe",
        "colab_type": "code",
        "outputId": "90f2dccc-3ca6-4305-ba64-02e86de4401f",
        "colab": {
          "base_uri": "https://localhost:8080/",
          "height": 71
        }
      },
      "source": [
        "with open(showsPath) as f:\n",
        "    for line in f:\n",
        "        shows.append(line.strip())\n",
        "\n",
        "\n",
        "R = np.zeros((m, n), dtype=np.int16)\n",
        "with open(dataPath) as f:\n",
        "    for i, line in enumerate(f):\n",
        "        R[i, :] = list(map(int, line.split()))\n",
        "\n",
        "p = np.sum(R, axis=1)\n",
        "q = np.sum(R, axis=0)\n",
        "\n",
        "p_ = 1 / np.sqrt(p)\n",
        "q_ = 1 / np.sqrt(q)\n",
        "\n",
        "RTp_ = R.T * p_[None, :]\n",
        "Rq_ = R * q_[None, :]\n",
        "\n",
        "rU = RTp_.T @ RTp_ @ R\n",
        "rI = R @ Rq_.T @ Rq_\n",
        "\n",
        "rU_focus = rU[alexi, :100]\n",
        "rI_focus = rI[alexi, :100]\n",
        "\n",
        "#only get top 5 results\n",
        "rU_idx = np.argsort(rU_focus)[::-1][:5]\n",
        "rI_idx = np.argsort(rI_focus)[::-1][:5]\n",
        "\n",
        "rU_results = list(zip(rU_focus[rU_idx], rU_idx, [shows[i] for i in rU_idx]))\n",
        "rI_results = list(zip(rI_focus[rI_idx], rI_idx, [shows[i] for i in rI_idx]))\n",
        "\n",
        "print(rU_results)\n",
        "print(rI_results)"
      ],
      "execution_count": 9,
      "outputs": [
        {
          "output_type": "stream",
          "text": [
            "[(908.480053476128, 96, '\"FOX 28 News at 10pm\"'), (861.1759992873301, 74, '\"Family Guy\"'), (827.6012954743582, 45, '\"2009 NCAA Basketball Tournament\"'), (784.7819589039739, 60, '\"NBC 4 at Eleven\"'), (757.6011181024228, 9, '\"Two and a Half Men\"')]\n",
            "[(31.364701678342396, 96, '\"FOX 28 News at 10pm\"'), (30.001141798877764, 74, '\"Family Guy\"'), (29.396797773402554, 60, '\"NBC 4 at Eleven\"'), (29.22700156150048, 45, '\"2009 NCAA Basketball Tournament\"'), (28.97127767405556, 82, '\"Access Hollywood\"')]\n"
          ],
          "name": "stdout"
        }
      ]
    }
  ]
}