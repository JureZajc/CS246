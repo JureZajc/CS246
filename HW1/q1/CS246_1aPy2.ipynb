{
  "nbformat": 4,
  "nbformat_minor": 0,
  "metadata": {
    "colab": {
      "name": "CS246-1aPy2.ipynb",
      "provenance": []
    },
    "kernelspec": {
      "name": "python2",
      "display_name": "Python 2"
    }
  },
  "cells": [
    {
      "cell_type": "code",
      "metadata": {
        "id": "FQmlZWcFE_xk",
        "colab_type": "code",
        "outputId": "0fce8041-80c4-4cc0-9a55-4037c3b7ab06",
        "colab": {
          "base_uri": "https://localhost:8080/",
          "height": 323
        }
      },
      "source": [
        "!pip install pyspark\n",
        "!pip install -U -q PyDrive\n",
        "!apt install openjdk-8-jdk-headless -qq\n",
        "import os\n",
        "os.environ[\"JAVA_HOME\"] = \"/usr/lib/jvm/java-8-openjdk-amd64\""
      ],
      "execution_count": 0,
      "outputs": [
        {
          "output_type": "stream",
          "text": [
            "Collecting pyspark\n",
            "\u001b[?25l  Downloading https://files.pythonhosted.org/packages/87/21/f05c186f4ddb01d15d0ddc36ef4b7e3cedbeb6412274a41f26b55a650ee5/pyspark-2.4.4.tar.gz (215.7MB)\n",
            "\u001b[K     |████████████████████████████████| 215.7MB 46kB/s \n",
            "\u001b[?25hCollecting py4j==0.10.7\n",
            "\u001b[?25l  Downloading https://files.pythonhosted.org/packages/e3/53/c737818eb9a7dc32a7cd4f1396e787bd94200c3997c72c1dbe028587bd76/py4j-0.10.7-py2.py3-none-any.whl (197kB)\n",
            "\u001b[K     |████████████████████████████████| 204kB 41.7MB/s \n",
            "\u001b[?25hBuilding wheels for collected packages: pyspark\n",
            "  Building wheel for pyspark (setup.py) ... \u001b[?25l\u001b[?25hdone\n",
            "  Created wheel for pyspark: filename=pyspark-2.4.4-py2.py3-none-any.whl size=216130387 sha256=d7a9eda752e25880bda5084c971371388a0f11c1427b7e8b4481d4d1c0630120\n",
            "  Stored in directory: /root/.cache/pip/wheels/ab/09/4d/0d184230058e654eb1b04467dbc1292f00eaa186544604b471\n",
            "Successfully built pyspark\n",
            "Installing collected packages: py4j, pyspark\n",
            "Successfully installed py4j-0.10.7 pyspark-2.4.4\n",
            "openjdk-8-jdk-headless is already the newest version (8u232-b09-0ubuntu1~18.04.1).\n",
            "The following package was automatically installed and is no longer required:\n",
            "  libnvidia-common-430\n",
            "Use 'apt autoremove' to remove it.\n",
            "0 upgraded, 0 newly installed, 0 to remove and 7 not upgraded.\n"
          ],
          "name": "stdout"
        }
      ]
    },
    {
      "cell_type": "code",
      "metadata": {
        "id": "WL_eZ6HrFIUr",
        "colab_type": "code",
        "colab": {}
      },
      "source": [
        "from pydrive.auth import GoogleAuth\n",
        "from pydrive.drive import GoogleDrive\n",
        "from google.colab import auth\n",
        "from oauth2client.client import GoogleCredentials\n",
        "\n",
        "# Authenticate and create the PyDrive client\n",
        "auth.authenticate_user()\n",
        "gauth = GoogleAuth()\n",
        "gauth.credentials = GoogleCredentials.get_application_default()\n",
        "drive = GoogleDrive(gauth)"
      ],
      "execution_count": 0,
      "outputs": []
    },
    {
      "cell_type": "markdown",
      "metadata": {
        "id": "ljJvmyqd-mI_",
        "colab_type": "text"
      },
      "source": [
        "Imports"
      ]
    },
    {
      "cell_type": "code",
      "metadata": {
        "id": "1ueXrIfH-nlw",
        "colab_type": "code",
        "colab": {}
      },
      "source": [
        "from pyspark import SparkContext, SparkConf\n",
        "from collections import Counter\n",
        "import itertools\n",
        "from pyspark.sql import *\n",
        "from pyspark.sql.functions import *"
      ],
      "execution_count": 0,
      "outputs": []
    },
    {
      "cell_type": "markdown",
      "metadata": {
        "id": "exNl58Ha_l6D",
        "colab_type": "text"
      },
      "source": [
        "Setup Spark"
      ]
    },
    {
      "cell_type": "code",
      "metadata": {
        "id": "51C3MPlg_nm2",
        "colab_type": "code",
        "colab": {}
      },
      "source": [
        "# create the Spark Session\n",
        "spark = SparkSession.builder.getOrCreate()\n",
        "\n",
        "# create the Spark Context\n",
        "sc = spark.sparkContext"
      ],
      "execution_count": 0,
      "outputs": []
    },
    {
      "cell_type": "markdown",
      "metadata": {
        "id": "xcFO7RiH_e_K",
        "colab_type": "text"
      },
      "source": [
        "Code variables"
      ]
    },
    {
      "cell_type": "code",
      "metadata": {
        "id": "dDfP4qPi_ed0",
        "colab_type": "code",
        "colab": {}
      },
      "source": [
        "fileName = 'soc-LiveJournal1Adj.txt'\n",
        "N = 10  #only ouput 10 most possible friends"
      ],
      "execution_count": 0,
      "outputs": []
    },
    {
      "cell_type": "markdown",
      "metadata": {
        "id": "QVq2OFBQ_sXy",
        "colab_type": "text"
      },
      "source": [
        "Function"
      ]
    },
    {
      "cell_type": "code",
      "metadata": {
        "id": "Fo4CbwH0_ujG",
        "colab_type": "code",
        "colab": {}
      },
      "source": [
        "def connecteds_and_commons(line):\n",
        "  minimum = -9999999999\n",
        "  user, friends = line.split('\\t')\n",
        "  friends = friends.split(',')\n",
        "  connecteds = [((user, friend), minimum) for friend in friends]\n",
        "  commons = [(pair, 1) for pair in itertools.permutations(friends, 2)]\n",
        "  return connecteds + commons"
      ],
      "execution_count": 0,
      "outputs": []
    },
    {
      "cell_type": "markdown",
      "metadata": {
        "id": "4dllTDKM_yYV",
        "colab_type": "text"
      },
      "source": [
        "Output"
      ]
    },
    {
      "cell_type": "code",
      "metadata": {
        "id": "kOf2t23CFIXp",
        "colab_type": "code",
        "outputId": "644e7510-1475-4ccf-acb5-7ad3912f5c0c",
        "colab": {
          "base_uri": "https://localhost:8080/",
          "height": 357
        }
      },
      "source": [
        "friendsListRDD = (sc\n",
        "                  .textFile( fileName, 16 )\n",
        "                  .flatMap( connecteds_and_commons )\n",
        "                  .reduceByKey( lambda total, current: total + current )\n",
        "                  .filter(lambda (pair, counts): counts > 0)\n",
        "                  .map(lambda ((user, friend), counts): (user, (counts, friend)))\n",
        "                  .groupByKey()\n",
        "                  .map(lambda (user, suggestions):(user, Counter( dict( (friend, count) for count, friend in suggestions ) ).most_common( N ) ) )\n",
        "                  #.cache()\n",
        "                   )\n",
        "\n",
        "\n",
        "print \"924\"\n",
        "print friendsListRDD.lookup('924')\n",
        "print \"8941\"\n",
        "print friendsListRDD.lookup('8941')\n",
        "print \"8942\"\n",
        "print friendsListRDD.lookup('8942')\n",
        "print \"9019\"\n",
        "print friendsListRDD.lookup('9019')\n",
        "print \"9020\"\n",
        "print friendsListRDD.lookup('9020')\n",
        "print \"9021\"\n",
        "print friendsListRDD.lookup('9021')\n",
        "print \"9022\"\n",
        "print friendsListRDD.lookup('9022')\n",
        "print \"9990\"\n",
        "print friendsListRDD.lookup('9990')\n",
        "print \"9992\"\n",
        "print friendsListRDD.lookup('9992')\n",
        "print \"9993\"\n",
        "print friendsListRDD.lookup('9993')\n",
        "#print friendsListRDD.collect()"
      ],
      "execution_count": 0,
      "outputs": [
        {
          "output_type": "stream",
          "text": [
            "924\n",
            "[[(u'11860', 1), (u'43748', 1), (u'45881', 1), (u'6995', 1), (u'15416', 1), (u'439', 1), (u'2409', 1)]]\n",
            "8941\n",
            "[[(u'8943', 2), (u'8944', 2), (u'8940', 1)]]\n",
            "8942\n",
            "[[(u'8939', 3), (u'8940', 1), (u'8943', 1), (u'8944', 1)]]\n",
            "9019\n",
            "[[(u'9022', 2), (u'317', 1), (u'9023', 1)]]\n",
            "9020\n",
            "[[(u'9021', 3), (u'9016', 2), (u'9017', 2), (u'9022', 2), (u'317', 1), (u'9023', 1)]]\n",
            "9021\n",
            "[[(u'9020', 3), (u'9016', 2), (u'9017', 2), (u'9022', 2), (u'317', 1), (u'9023', 1)]]\n",
            "9022\n",
            "[[(u'9021', 2), (u'9019', 2), (u'9020', 2), (u'9016', 1), (u'9017', 1), (u'317', 1), (u'9023', 1)]]\n",
            "9990\n",
            "[[(u'13134', 1), (u'34642', 1), (u'34485', 1), (u'37941', 1), (u'13478', 1), (u'34299', 1), (u'13877', 1)]]\n",
            "9992\n",
            "[[(u'9987', 4), (u'9989', 4), (u'35667', 3), (u'9991', 2)]]\n",
            "9993\n",
            "[[(u'9991', 5), (u'34642', 1), (u'34299', 1), (u'13877', 1), (u'13134', 1), (u'34485', 1), (u'13478', 1), (u'37941', 1)]]\n"
          ],
          "name": "stdout"
        }
      ]
    }
  ]
}