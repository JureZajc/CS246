{
  "nbformat": 4,
  "nbformat_minor": 0,
  "metadata": {
    "colab": {
      "name": "CS246-2ePy2ipynb",
      "provenance": []
    },
    "kernelspec": {
      "name": "python2",
      "display_name": "Python 2"
    }
  },
  "cells": [
    {
      "cell_type": "markdown",
      "metadata": {
        "id": "EszoMFN4B8io",
        "colab_type": "text"
      },
      "source": [
        "Must needed setup before every assignment"
      ]
    },
    {
      "cell_type": "code",
      "metadata": {
        "id": "9RmD1O_9BvNj",
        "colab_type": "code",
        "outputId": "e2471080-4670-461d-faa8-66ec92a6b9b3",
        "colab": {
          "base_uri": "https://localhost:8080/",
          "height": 323
        }
      },
      "source": [
        "!pip install pyspark\n",
        "!pip install -U -q PyDrive\n",
        "!apt install openjdk-8-jdk-headless -qq\n",
        "import os\n",
        "os.environ[\"JAVA_HOME\"] = \"/usr/lib/jvm/java-8-openjdk-amd64\""
      ],
      "execution_count": 1,
      "outputs": [
        {
          "output_type": "stream",
          "text": [
            "Collecting pyspark\n",
            "\u001b[?25l  Downloading https://files.pythonhosted.org/packages/87/21/f05c186f4ddb01d15d0ddc36ef4b7e3cedbeb6412274a41f26b55a650ee5/pyspark-2.4.4.tar.gz (215.7MB)\n",
            "\u001b[K     |████████████████████████████████| 215.7MB 54kB/s \n",
            "\u001b[?25hCollecting py4j==0.10.7\n",
            "\u001b[?25l  Downloading https://files.pythonhosted.org/packages/e3/53/c737818eb9a7dc32a7cd4f1396e787bd94200c3997c72c1dbe028587bd76/py4j-0.10.7-py2.py3-none-any.whl (197kB)\n",
            "\u001b[K     |████████████████████████████████| 204kB 43.0MB/s \n",
            "\u001b[?25hBuilding wheels for collected packages: pyspark\n",
            "  Building wheel for pyspark (setup.py) ... \u001b[?25l\u001b[?25hdone\n",
            "  Created wheel for pyspark: filename=pyspark-2.4.4-py2.py3-none-any.whl size=216130387 sha256=cf03709e407523b9ba859ca82a52f3455e72f70f793f0c815ed1dc20f2f4835c\n",
            "  Stored in directory: /root/.cache/pip/wheels/ab/09/4d/0d184230058e654eb1b04467dbc1292f00eaa186544604b471\n",
            "Successfully built pyspark\n",
            "Installing collected packages: py4j, pyspark\n",
            "Successfully installed py4j-0.10.7 pyspark-2.4.4\n",
            "openjdk-8-jdk-headless is already the newest version (8u232-b09-0ubuntu1~18.04.1).\n",
            "The following package was automatically installed and is no longer required:\n",
            "  libnvidia-common-430\n",
            "Use 'apt autoremove' to remove it.\n",
            "0 upgraded, 0 newly installed, 0 to remove and 7 not upgraded.\n"
          ],
          "name": "stdout"
        }
      ]
    },
    {
      "cell_type": "code",
      "metadata": {
        "id": "m2I-XWJACBQA",
        "colab_type": "code",
        "colab": {}
      },
      "source": [
        "from pydrive.auth import GoogleAuth\n",
        "from pydrive.drive import GoogleDrive\n",
        "from google.colab import auth\n",
        "from oauth2client.client import GoogleCredentials\n",
        "\n",
        "# Authenticate and create the PyDrive client\n",
        "auth.authenticate_user()\n",
        "gauth = GoogleAuth()\n",
        "gauth.credentials = GoogleCredentials.get_application_default()\n",
        "drive = GoogleDrive(gauth)"
      ],
      "execution_count": 0,
      "outputs": []
    },
    {
      "cell_type": "markdown",
      "metadata": {
        "id": "Cz5w2uBlDE9q",
        "colab_type": "text"
      },
      "source": [
        "Imports"
      ]
    },
    {
      "cell_type": "code",
      "metadata": {
        "id": "0s4szKLuDHPK",
        "colab_type": "code",
        "colab": {}
      },
      "source": [
        "import itertools\n",
        "from pyspark import SparkContext, SparkConf\n",
        "from pyspark.sql import *\n",
        "from pyspark.sql.functions import *"
      ],
      "execution_count": 0,
      "outputs": []
    },
    {
      "cell_type": "markdown",
      "metadata": {
        "id": "qbQbr_aODJOi",
        "colab_type": "text"
      },
      "source": [
        "Setup Spark"
      ]
    },
    {
      "cell_type": "code",
      "metadata": {
        "id": "5vRkgNuoDKSX",
        "colab_type": "code",
        "colab": {}
      },
      "source": [
        "# create the Spark Session\n",
        "spark = SparkSession.builder.getOrCreate()\n",
        "\n",
        "# create the Spark Context\n",
        "sc = spark.sparkContext"
      ],
      "execution_count": 0,
      "outputs": []
    },
    {
      "cell_type": "markdown",
      "metadata": {
        "id": "x_XH9IvBDL2C",
        "colab_type": "text"
      },
      "source": [
        "Code Variables"
      ]
    },
    {
      "cell_type": "code",
      "metadata": {
        "id": "ermuxzChDQT0",
        "colab_type": "code",
        "colab": {}
      },
      "source": [
        "s        = 100 # set support threshold\n",
        "topN     = 20  # set top items to show\n",
        "fileName = 'browsing.txt'"
      ],
      "execution_count": 0,
      "outputs": []
    },
    {
      "cell_type": "markdown",
      "metadata": {
        "id": "Yr6_U1XGDhsf",
        "colab_type": "text"
      },
      "source": [
        "Output"
      ]
    },
    {
      "cell_type": "code",
      "metadata": {
        "id": "kxiq27_m_qFf",
        "colab_type": "code",
        "outputId": "ef1e29e8-db9b-4ddf-ca7c-49cfca221324",
        "colab": {
          "base_uri": "https://localhost:8080/",
          "height": 238
        }
      },
      "source": [
        "f = open(fileName, 'r')\n",
        "\n",
        "# pass 1\n",
        "C1 = {}\n",
        "for l in f:\n",
        "    items = l.strip().split(\" \")\n",
        "    for item in items:\n",
        "        if item in C1:\n",
        "            C1[item] = C1[item] + 1\n",
        "        else:\n",
        "            C1[item] = 1\n",
        "\n",
        "L1 = {}\n",
        "for item in C1:\n",
        "    if C1[item] > s:\n",
        "        L1[item] = C1[item]\n",
        "\n",
        "# pass 2\n",
        "f.seek(0)\n",
        "C2 = {}\n",
        "for l in f:\n",
        "    items = l.strip().split(\" \")\n",
        "    for i in xrange(len(items)):\n",
        "        for j in xrange(i + 1, len(items)):\n",
        "            if (items[i] in L1) and (items[j] in L1):\n",
        "                if items[i] < items[j]:\n",
        "                    key = (items[i], items[j])\n",
        "                else:\n",
        "                    key = (items[j], items[i])\n",
        "                if key in C2:\n",
        "                    C2[key] = C2[key] + 1\n",
        "                else:\n",
        "                    C2[key] = 1\n",
        "\n",
        "L2 = {}\n",
        "for key in C2:\n",
        "    if C2[key] > s:\n",
        "        L2[key] = C2[key]\n",
        "\n",
        "listL2 = []\n",
        "for key, val in L2.items():\n",
        "    newKeyA = key[0]\n",
        "    newKeyB = key[1]\n",
        "    prob = val / (1.0 * L1[newKeyA])\n",
        "    listL2.append((newKeyA, prob, newKeyB))\n",
        "    prob = val / (1.0 * L1[newKeyB])\n",
        "    listL2.append((newKeyB, prob, newKeyA))\n",
        "\n",
        "print \"checkpoint ====\"\n",
        "\n",
        "sortListL2 = sorted(listL2, key=lambda x:x[1], reverse = True)\n",
        "for i in xrange(5):\n",
        "    print str(sortListL2[i][0]) + \" -> \" + str(sortListL2[i][2]) + \" : \" + str(sortListL2[i][1])\n",
        "\n",
        "# pass 3\n",
        "f.seek(0)\n",
        "C3 = {}\n",
        "for l in f:\n",
        "    items = l.strip().split(\" \")\n",
        "    for i in xrange(len(items)):\n",
        "        for j in xrange(i + 1, len(items)):\n",
        "            for k in xrange(j + 1, len(items)):\n",
        "                if items[i] <= items[j] <= items[k]:\n",
        "                    pair1 = (items[i], items[j])\n",
        "                    pair2 = (items[i], items[k])\n",
        "                    pair3 = (items[j], items[k])\n",
        "                    if (pair1 in L2) and (pair2 in L2) and (pair3 in L2):\n",
        "                        key = (items[i], items[j], items[k])\n",
        "                        if key in C3:\n",
        "                            C3[key] = C3[key] + 1\n",
        "                        else:\n",
        "                            C3[key] = 1\n",
        "                elif items[i] <= items[k] <= items[j]:\n",
        "                    pair1 = (items[i], items[k])\n",
        "                    pair2 = (items[i], items[j])\n",
        "                    pair3 = (items[k], items[j])\n",
        "                    if (pair1 in L2) and (pair2 in L2) and (pair3 in L2):\n",
        "                        key = (items[i], items[k], items[j])\n",
        "                        if key in C3:\n",
        "                            C3[key] = C3[key] + 1\n",
        "                        else:\n",
        "                            C3[key] = 1\n",
        "                elif items[k] <= items[i] <= items[j]:\n",
        "                    pair1 = (items[k], items[i])\n",
        "                    pair2 = (items[k], items[j])\n",
        "                    pair3 = (items[i], items[j])\n",
        "                    if (pair1 in L2) and (pair2 in L2) and (pair3 in L2):\n",
        "                        key = (items[k], items[i], items[j])\n",
        "                        if key in C3:\n",
        "                            C3[key] = C3[key] + 1\n",
        "                        else:\n",
        "                            C3[key] = 1\n",
        "                elif items[k] <= items[j] <= items[i]:\n",
        "                    pair1 = (items[k], items[j])\n",
        "                    pair2 = (items[k], items[i])\n",
        "                    pair3 = (items[j], items[i])\n",
        "                    if (pair1 in L2) and (pair2 in L2) and (pair3 in L2):\n",
        "                        key = (items[k], items[j], items[i])\n",
        "                        if key in C3:\n",
        "                            C3[key] = C3[key] + 1\n",
        "                        else:\n",
        "                            C3[key] = 1\n",
        "                elif items[j] <= items[i] <= items[k]:\n",
        "                    pair1 = (items[j], items[i])\n",
        "                    pair2 = (items[j], items[k])\n",
        "                    pair3 = (items[i], items[k])\n",
        "                    if (pair1 in L2) and (pair2 in L2) and (pair3 in L2):\n",
        "                        key = (items[j], items[i], items[k])\n",
        "                        if key in C3:\n",
        "                            C3[key] = C3[key] + 1\n",
        "                        else:\n",
        "                            C3[key] = 1\n",
        "                elif items[j] <= items[k] <= items[i]:\n",
        "                    pair1 = (items[j], items[k])\n",
        "                    pair2 = (items[j], items[i])\n",
        "                    pair3 = (items[k], items[i])\n",
        "                    if (pair1 in L2) and (pair2 in L2) and (pair3 in L2):\n",
        "                        key = (items[j], items[k], items[i])\n",
        "                        if key in C3:\n",
        "                            C3[key] = C3[key] + 1\n",
        "                        else:\n",
        "                            C3[key] = 1\n",
        "                else:\n",
        "                    raise Exception(\"Wrong !\")\n",
        "\n",
        "L3 = {}\n",
        "for key in C3:\n",
        "    if C3[key] > s:\n",
        "        L3[key] = C3[key]\n",
        "\n",
        "listL3 = []\n",
        "for key, val in L3.items():\n",
        "    newKeyA = (key[0], key[1])\n",
        "    prob = val / (1.0 * L2[newKeyA])\n",
        "    listL3.append((newKeyA, prob, key[2]))\n",
        "    newKeyB = (key[0], key[2])\n",
        "    prob = val / (1.0 * L2[newKeyB])\n",
        "    listL3.append((newKeyB, prob, key[1]))\n",
        "    newKeyC = (key[1], key[2])\n",
        "    prob = val / (1.0 * L2[newKeyC])\n",
        "    listL3.append((newKeyC, prob, key[0]))\n",
        "\n",
        "def mycmp(o1, o2):\n",
        "    if o1[1] != o2[1]:\n",
        "        return cmp(o1[1], o2[1])\n",
        "    else:\n",
        "        return cmp(o2[0], o1[0])\n",
        "\n",
        "print \"\"\n",
        "print \"checkpoint ====\"\n",
        "sortListL3 = sorted(listL3, cmp = lambda x, y : mycmp(x, y), reverse = True)\n",
        "for i in xrange(5):\n",
        "    print str(sortListL3[i][0]) + \" -> \" + str(sortListL3[i][2]) + \" : \" + str(sortListL3[i][1])"
      ],
      "execution_count": 7,
      "outputs": [
        {
          "output_type": "stream",
          "text": [
            "checkpoint ====\n",
            "DAI93865 -> FRO40251 : 1.0\n",
            "GRO85051 -> FRO40251 : 0.999176276771\n",
            "GRO38636 -> FRO40251 : 0.990654205607\n",
            "ELE12951 -> FRO40251 : 0.990566037736\n",
            "DAI88079 -> FRO40251 : 0.986725663717\n",
            "\n",
            "checkpoint ====\n",
            "('DAI23334', 'ELE92920') -> DAI62779 : 1.0\n",
            "('DAI31081', 'GRO85051') -> FRO40251 : 1.0\n",
            "('DAI55911', 'GRO85051') -> FRO40251 : 1.0\n",
            "('DAI62779', 'DAI88079') -> FRO40251 : 1.0\n",
            "('DAI75645', 'GRO85051') -> FRO40251 : 1.0\n"
          ],
          "name": "stdout"
        }
      ]
    }
  ]
}